{
 "cells": [
  {
   "cell_type": "code",
   "execution_count": 1,
   "id": "89a80d92-f7e8-4c72-b824-95da279e9d6e",
   "metadata": {},
   "outputs": [],
   "source": [
    "from pathlib import Path\n",
    "from utils import QmdlLogsHelper\n",
    "import numpy as np\n",
    "import pandas as pd"
   ]
  },
  {
   "cell_type": "code",
   "execution_count": 2,
   "id": "646ef075-2a8e-43cd-9adb-5420de13aa9c",
   "metadata": {},
   "outputs": [
    {
     "data": {
      "text/plain": [
       "43"
      ]
     },
     "execution_count": 2,
     "metadata": {},
     "output_type": "execute_result"
    }
   ],
   "source": [
    "path_project = Path('/disk/sean/5glogs/')\n",
    "path_data_1 = Path('data.hangover/trip_1.forward/')\n",
    "path_rawlogs_list_1 = [path_project / path_data_1 / Path(f'qmdl_{i}.qmdl') for i in range(1, 20+1)]\n",
    "path_data_2 = Path('data.hangover/trip_1.backward/')\n",
    "path_rawlogs_list_2 = [path_project / path_data_2 / Path(f'qmdl_{i}.qmdl') for i in range(1, 23+1)]\n",
    "# [PosixPath('/disk/sean/5glogs/data.hangover/trip_1.forward/qmdl_1.qmdl'),\n",
    "#  ...\n",
    "#  PosixPath('/disk/sean/5glogs/data.hangover/trip_1.forward/qmdl_20.qmdl'),\n",
    "#  PosixPath('/disk/sean/5glogs/data.hangover/trip_1.backward/qmdl_1.qmdl'),\n",
    "#  ...\n",
    "#  PosixPath('/disk/sean/5glogs/data.hangover/trip_1.backward/qmdl_23.qmdl')]\n",
    "path_rawlogs_list = path_rawlogs_list_1 + path_rawlogs_list_2; len(path_rawlogs_list)"
   ]
  },
  {
   "cell_type": "code",
   "execution_count": 3,
   "id": "9f531851-8f2d-47e5-84a7-a4367124a167",
   "metadata": {},
   "outputs": [
    {
     "data": {
      "text/plain": [
       "3"
      ]
     },
     "execution_count": 3,
     "metadata": {},
     "output_type": "execute_result"
    }
   ],
   "source": [
    "path_data_3 = Path('data.hangover/trip_2.samples/')\n",
    "path_rawlogs_list_3 = sorted((path_project / path_data_3).glob('*.qmdl')); len(path_rawlogs_list_3)\n",
    "# [PosixPath('/disk/sean/5glogs/data.hangover/trip_2.samples/qmdl_1.qmdl'),\n",
    "#  PosixPath('/disk/sean/5glogs/data.hangover/trip_2.samples/qmdl_2.qmdl'),\n",
    "#  PosixPath('/disk/sean/5glogs/data.hangover/trip_2.samples/qmdl_5.qmdl')]"
   ]
  },
  {
   "cell_type": "code",
   "execution_count": 6,
   "id": "cf0ad4f5-48ff-4ea4-b66c-19c930bc03c1",
   "metadata": {},
   "outputs": [
    {
     "name": "stdout",
     "output_type": "stream",
     "text": [
      "<class 'pandas.core.frame.DataFrame'>\n",
      "RangeIndex: 3929877 entries, 0 to 3929876\n",
      "Data columns (total 3 columns):\n",
      " #   Column          Dtype \n",
      "---  ------          ----- \n",
      " 0   log             object\n",
      " 1   log_len         int64 \n",
      " 2   hangover_start  int64 \n",
      "dtypes: int64(2), object(1)\n",
      "memory usage: 89.9+ MB\n"
     ]
    }
   ],
   "source": [
    "test_logs_helper = QmdlLogsHelper(path_rawlogs_list_3)\n",
    "test_logs_helper.df_logs.info()"
   ]
  },
  {
   "cell_type": "code",
   "execution_count": 10,
   "id": "335de295-be85-4799-8c1b-ef77c2c35dbd",
   "metadata": {},
   "outputs": [
    {
     "data": {
      "text/plain": [
       "(           log_len  hangover_start\n",
       " count    24.000000            24.0\n",
       " mean    216.083333             1.0\n",
       " std     204.965515             0.0\n",
       " min      50.000000             1.0\n",
       " 25%      84.000000             1.0\n",
       " 50%     164.000000             1.0\n",
       " 75%     256.000000             1.0\n",
       " max    1015.000000             1.0,\n",
       "                                                        log  log_len  \\\n",
       " 225679   b\"`\\x82\\xf4j\\xa7u'\\x80\\x1cq\\x07j,}\\xc1t\\x1c|6i...       57   \n",
       " 500280   b'`uX\\x88\\xae\\x89\\xbbgc\\x92\\x92j\\x95oEv\\xcbe\\x...      268   \n",
       " 523838   b\"`|\\x07d=jO\\x85\\x96u(\\x9c\\xae`\\xd1\\x8c\\xc4\\x8...      149   \n",
       " 793543   b'`\\x7f^?\\xc7I\\x869\\x84\\x1b\\x9b=cH4j\\x9fX\\x94l...      203   \n",
       " 900005   b'`\\x81\\xf5\\x05\\x01\\x02\\x00\\x00\\x00\\xfc\\x08\\x0...      275   \n",
       " 990425   b'`Y&Q@\\x14-\\xfc\\x94\\xf0\\x03X\\x00\\xb8\\xf7\\xb9\\...      461   \n",
       " 1713717  b'`X\\x00\\xc3h\\x12\\x8b3\\xad\\x81\\xf5\\x05\\x01\\x03...       93   \n",
       " 2227306  b\"`G6\\x95TST9nd\\xe3\\xef\\x18\\x7f\\xd4ED#\\xa8\\xb5...      413   \n",
       " 2676464  b\"`'h,\\xb8\\x86\\xb9\\xa7|w\\xb7r\\xc4\\x97\\x8e\\x01w...      252   \n",
       " 2676991  b\"`'h,\\xb8\\x86\\xb9\\xa7|w\\xb7r\\xc4\\x97\\x8e\\x01w...      252   \n",
       " 2684836  b\"`h\\x87G\\x87}2\\x87|\\x1d\\x17p\\xf2\\xe7r\\xd4\\x97...      179   \n",
       " 2685272  b\"`h\\x87G\\x87}2\\x87|\\x1d\\x17p\\xf2\\xe7r\\xd4\\x97...      179   \n",
       " 2712057  b'`wm\\x03gr\\x8e\\xe6k\\x01g}\\x17\\xb7{j\\x18z#\\xc7...       56   \n",
       " 2713294  b'`wm\\x03gr\\x8e\\xe6k\\x01g}\\x17\\xb7{j\\x18z#\\xc7...       56   \n",
       " 2714527  b'`wm\\x03gr\\x8e\\xe6k\\x01g}\\x17\\xb7{j\\x18z#\\xc7...       56   \n",
       " 2762513  b'`\\xe7Q7\\xac\\xb6\\xc4\\xf2\\xb43\\x18as\\xa7\\xbc<\\...     1015   \n",
       " 2845898  b'`f\\x94_\\x0bj\\xf6f\\xb9\\x89\\x99r\\x88{p]/wfp\\xd...      106   \n",
       " 3453518  b\"`\\x97p\\xc9\\x00y\\x91\\xa7pr\\x87r`G\\x7f\\x90\\xa0...       50   \n",
       " 3694890  b'`\\x8copCTIu\\x96|\\x02|\\xb6{\\xe2x\\x94\\x9b\\xef\\...       53   \n",
       " 3789200  b\"`\\x01L\\xb5\\xee\\xff\\x80\\xac\\xf4\\x00|\\xeb\\r\\x0...      342   \n",
       " 3835146  b'`\\xc8y\\t\\xe7\\x84\\xce\\xd8\\x85\\xe1\\xf8\\x80\\xd8...      149   \n",
       " 3835491  b'`\\xc8y\\t\\xe7\\x84\\xce\\xd8\\x85\\xe1\\xf8\\x80\\xd8...      149   \n",
       " 3836213  b'`\\xc8y\\t\\xe7\\x84\\xce\\xd8\\x85\\xe1\\xf8\\x80\\xd8...      149   \n",
       " 3897439  b\"`v'\\x8c\\x97\\x7fvxBf\\xbdy\\x8a\\x94\\xf2\\x89\\xbc...      224   \n",
       " \n",
       "          hangover_start  \n",
       " 225679                1  \n",
       " 500280                1  \n",
       " 523838                1  \n",
       " 793543                1  \n",
       " 900005                1  \n",
       " 990425                1  \n",
       " 1713717               1  \n",
       " 2227306               1  \n",
       " 2676464               1  \n",
       " 2676991               1  \n",
       " 2684836               1  \n",
       " 2685272               1  \n",
       " 2712057               1  \n",
       " 2713294               1  \n",
       " 2714527               1  \n",
       " 2762513               1  \n",
       " 2845898               1  \n",
       " 3453518               1  \n",
       " 3694890               1  \n",
       " 3789200               1  \n",
       " 3835146               1  \n",
       " 3835491               1  \n",
       " 3836213               1  \n",
       " 3897439               1  )"
      ]
     },
     "execution_count": 10,
     "metadata": {},
     "output_type": "execute_result"
    }
   ],
   "source": [
    "df_test_hostart = test_logs_helper.df_logs[test_logs_helper.df_logs.hangover_start == 1]\n",
    "df_test_hostart.describe(), df_test_hostart"
   ]
  },
  {
   "cell_type": "code",
   "execution_count": 26,
   "id": "c80e3d10-70ac-4ff8-8aa7-38553661075e",
   "metadata": {},
   "outputs": [
    {
     "name": "stdout",
     "output_type": "stream",
     "text": [
      "<class 'pandas.core.frame.DataFrame'>\n",
      "RangeIndex: 50810744 entries, 0 to 50810743\n",
      "Data columns (total 3 columns):\n",
      " #   Column          Dtype \n",
      "---  ------          ----- \n",
      " 0   log             object\n",
      " 1   log_len         int64 \n",
      " 2   hangover_start  int64 \n",
      "dtypes: int64(2), object(1)\n",
      "memory usage: 1.1+ GB\n"
     ]
    }
   ],
   "source": [
    "logs_helper = QmdlLogsHelper(path_rawlogs_list[0:])\n",
    "logs_helper.df_logs.info()"
   ]
  },
  {
   "cell_type": "code",
   "execution_count": 37,
   "id": "5dcf677c-d200-43db-a57d-c3b3423ac0a8",
   "metadata": {},
   "outputs": [
    {
     "data": {
      "text/plain": [
       "0.8385327914112023"
      ]
     },
     "execution_count": 37,
     "metadata": {},
     "output_type": "execute_result"
    }
   ],
   "source": [
    "len(logs_helper.df_logs[logs_helper.df_logs.log_len <= 100]) / len(logs_helper.df_logs)"
   ]
  },
  {
   "cell_type": "code",
   "execution_count": 14,
   "id": "c7a8acb7-4c5e-4475-9663-ae02902c2a1b",
   "metadata": {},
   "outputs": [
    {
     "data": {
      "text/html": [
       "<div>\n",
       "<style scoped>\n",
       "    .dataframe tbody tr th:only-of-type {\n",
       "        vertical-align: middle;\n",
       "    }\n",
       "\n",
       "    .dataframe tbody tr th {\n",
       "        vertical-align: top;\n",
       "    }\n",
       "\n",
       "    .dataframe thead th {\n",
       "        text-align: right;\n",
       "    }\n",
       "</style>\n",
       "<table border=\"1\" class=\"dataframe\">\n",
       "  <thead>\n",
       "    <tr style=\"text-align: right;\">\n",
       "      <th></th>\n",
       "      <th>log_len</th>\n",
       "      <th>hangover_start</th>\n",
       "    </tr>\n",
       "  </thead>\n",
       "  <tbody>\n",
       "    <tr>\n",
       "      <th>count</th>\n",
       "      <td>417.000000</td>\n",
       "      <td>417.0</td>\n",
       "    </tr>\n",
       "    <tr>\n",
       "      <th>mean</th>\n",
       "      <td>247.235012</td>\n",
       "      <td>1.0</td>\n",
       "    </tr>\n",
       "    <tr>\n",
       "      <th>std</th>\n",
       "      <td>312.356986</td>\n",
       "      <td>0.0</td>\n",
       "    </tr>\n",
       "    <tr>\n",
       "      <th>min</th>\n",
       "      <td>9.000000</td>\n",
       "      <td>1.0</td>\n",
       "    </tr>\n",
       "    <tr>\n",
       "      <th>25%</th>\n",
       "      <td>65.000000</td>\n",
       "      <td>1.0</td>\n",
       "    </tr>\n",
       "    <tr>\n",
       "      <th>50%</th>\n",
       "      <td>134.000000</td>\n",
       "      <td>1.0</td>\n",
       "    </tr>\n",
       "    <tr>\n",
       "      <th>75%</th>\n",
       "      <td>275.000000</td>\n",
       "      <td>1.0</td>\n",
       "    </tr>\n",
       "    <tr>\n",
       "      <th>max</th>\n",
       "      <td>1978.000000</td>\n",
       "      <td>1.0</td>\n",
       "    </tr>\n",
       "  </tbody>\n",
       "</table>\n",
       "</div>"
      ],
      "text/plain": [
       "           log_len  hangover_start\n",
       "count   417.000000           417.0\n",
       "mean    247.235012             1.0\n",
       "std     312.356986             0.0\n",
       "min       9.000000             1.0\n",
       "25%      65.000000             1.0\n",
       "50%     134.000000             1.0\n",
       "75%     275.000000             1.0\n",
       "max    1978.000000             1.0"
      ]
     },
     "execution_count": 14,
     "metadata": {},
     "output_type": "execute_result"
    }
   ],
   "source": [
    "df_hostart = logs_helper.df_logs[ logs_helper.df_logs.hangover_start == 1]\n",
    "df_hostart.describe()"
   ]
  },
  {
   "cell_type": "code",
   "execution_count": 113,
   "id": "f24df81f-b221-4c45-b80a-a62faa6458b5",
   "metadata": {
    "scrolled": true
   },
   "outputs": [
    {
     "name": "stdout",
     "output_type": "stream",
     "text": [
      "132\t0028630921 0028631053\n",
      "277\t0029044543 0029044820\n",
      "247\t0034792433 0034792680\n"
     ]
    }
   ],
   "source": [
    "for i, j in zip(df_hostart.index[0:-1], df_hostart.index[1:]):\n",
    "    if j - i <= 300:\n",
    "        print(f\"{j-i}\\t{i:010d} {j:010d}\")"
   ]
  },
  {
   "cell_type": "code",
   "execution_count": 78,
   "id": "7218ff32-f955-4f1f-ad1d-f30c2518701b",
   "metadata": {},
   "outputs": [
    {
     "data": {
      "text/plain": [
       "(200, 417)"
      ]
     },
     "execution_count": 78,
     "metadata": {},
     "output_type": "execute_result"
    }
   ],
   "source": [
    "len(range(1000-100, 1000+100)), len(df_hostart)"
   ]
  },
  {
   "cell_type": "code",
   "execution_count": 333,
   "id": "05e4df1f-4237-44dc-b32d-f0f5dcd0b72d",
   "metadata": {},
   "outputs": [
    {
     "data": {
      "text/plain": [
       "49648910"
      ]
     },
     "execution_count": 333,
     "metadata": {},
     "output_type": "execute_result"
    }
   ],
   "source": [
    "np.random.seed(42)\n",
    "def sample_negative_ho_start_id(hostart_id_list, width: int = 100):\n",
    "    id_fine = False\n",
    "    while id_fine is False:\n",
    "        idx = np.random.randint(0, len(logs_helper.df_logs))\n",
    "        for i in hostart_id_list:\n",
    "            w = width * 1.5\n",
    "            if i - width <= idx <= i + width:\n",
    "                id_fine = False\n",
    "                break\n",
    "        id_fine = True\n",
    "    return idx\n",
    "sample_negative_ho_start_id(df_hostart.index)"
   ]
  },
  {
   "cell_type": "code",
   "execution_count": 114,
   "id": "6f58e2c7-45fe-4618-878b-67ddf23aade7",
   "metadata": {},
   "outputs": [],
   "source": [
    "set_all = set(range(0, len(logs_helper.df_logs)))\n",
    "for i in df_hostart.index:\n",
    "    set_all -= set(range(i-100, i+100))\n",
    "assert len(logs_helper.df_logs) - len(set_all) == 416*200 + 1*132 # df_hostart.index: ..., 28630921, 20631053, ..."
   ]
  },
  {
   "cell_type": "code",
   "execution_count": 36,
   "id": "49c014c3-7bbc-4b5d-a203-e7cbd53871af",
   "metadata": {},
   "outputs": [
    {
     "data": {
      "text/plain": [
       "21"
      ]
     },
     "execution_count": 36,
     "metadata": {},
     "output_type": "execute_result"
    }
   ],
   "source": [
    "idx = 452927\n",
    "len(logs_helper.df_logs.loc[(idx-10):idx+10])"
   ]
  },
  {
   "cell_type": "code",
   "execution_count": 5,
   "id": "e8d8bcdc-6507-407b-ac34-a4e0f7f6653a",
   "metadata": {
    "collapsed": true,
    "jupyter": {
     "outputs_hidden": true
    },
    "scrolled": true
   },
   "outputs": [
    {
     "name": "stdout",
     "output_type": "stream",
     "text": [
      "/disk/sean/5glogs/data.hangover/trip_1.forward/qmdl_1.qmdl\n",
      "129299 b\"\\x00\\x07\\x01r\\x0e\\xec'\\x81\"\n",
      "/disk/sean/5glogs/data.hangover/trip_1.forward/qmdl_2.qmdl\n",
      "1154839 b'K\\xe7w\\x94\\xa6h\\x85\\xb6m\\xb1\\xa6`\\xc0\\xf6`h\\x06Z\\x8a\\xc5mZWuM7js\\xd7hDwi\\x11&u\\xd3\\x96h\\x077v\\xb8\\xc6m\\x8bV'\n"
     ]
    },
    {
     "data": {
      "text/html": [
       "<div>\n",
       "<style scoped>\n",
       "    .dataframe tbody tr th:only-of-type {\n",
       "        vertical-align: middle;\n",
       "    }\n",
       "\n",
       "    .dataframe tbody tr th {\n",
       "        vertical-align: top;\n",
       "    }\n",
       "\n",
       "    .dataframe thead th {\n",
       "        text-align: right;\n",
       "    }\n",
       "</style>\n",
       "<table border=\"1\" class=\"dataframe\">\n",
       "  <thead>\n",
       "    <tr style=\"text-align: right;\">\n",
       "      <th></th>\n",
       "      <th>log</th>\n",
       "      <th>hangover_start</th>\n",
       "    </tr>\n",
       "  </thead>\n",
       "  <tbody>\n",
       "    <tr>\n",
       "      <th>0</th>\n",
       "      <td>b\"\\x00\\x07\\x01r\\x0e\\xec'\\x81\"</td>\n",
       "      <td>0</td>\n",
       "    </tr>\n",
       "    <tr>\n",
       "      <th>1</th>\n",
       "      <td>b'$\\xe2\\xc7\\xefp\\x1a\\x1a\\x87O\\x7f\\xfa\\xe8\\x87\\...</td>\n",
       "      <td>0</td>\n",
       "    </tr>\n",
       "    <tr>\n",
       "      <th>2</th>\n",
       "      <td>b'\\xfe\\x1a\\xe7\\x04r\\n\"GN\\x7f\\xe2\\xfa\\x07\\xe2p\\...</td>\n",
       "      <td>0</td>\n",
       "    </tr>\n",
       "    <tr>\n",
       "      <th>3</th>\n",
       "      <td>b\"*\\x1a\\x07.}\\xf8\\xd0'Ls&amp;\\xfe\\xa7\\xa1\\x7f\\xfe\\...</td>\n",
       "      <td>0</td>\n",
       "    </tr>\n",
       "    <tr>\n",
       "      <th>4</th>\n",
       "      <td>b'\\x02\\xceG\\xe1p\\x0e\\xfe\\x07\\xa4}\\xd6\\xd8\\x07!'</td>\n",
       "      <td>0</td>\n",
       "    </tr>\n",
       "    <tr>\n",
       "      <th>...</th>\n",
       "      <td>...</td>\n",
       "      <td>...</td>\n",
       "    </tr>\n",
       "    <tr>\n",
       "      <th>1284133</th>\n",
       "      <td>b'\\xeb\\xb7qV\\xf7t'</td>\n",
       "      <td>0</td>\n",
       "    </tr>\n",
       "    <tr>\n",
       "      <th>1284134</th>\n",
       "      <td>b\"\\xd7h\\xe0\\x07}\\xa3wp\\xd3\\x87\\x83l\\xa8}\\xda\\x...</td>\n",
       "      <td>0</td>\n",
       "    </tr>\n",
       "    <tr>\n",
       "      <th>1284135</th>\n",
       "      <td>b\"\\xc2'}j\\xb7w\\xedW\\x83\\xef\\xc7rE\\xd7\\x87\\xa5\\...</td>\n",
       "      <td>0</td>\n",
       "    </tr>\n",
       "    <tr>\n",
       "      <th>1284136</th>\n",
       "      <td>b'\\xf3\\x97q\\x8e\\xa6r\\xf9\\x17z\\x83\\xc7z\\xfa\\xc7...</td>\n",
       "      <td>0</td>\n",
       "    </tr>\n",
       "    <tr>\n",
       "      <th>1284137</th>\n",
       "      <td>b'\\xc5\\x97|\\xb5\\x97s\\'\\xf7\\x81\\xa5Wzz\\xf8z\\x94...</td>\n",
       "      <td>0</td>\n",
       "    </tr>\n",
       "  </tbody>\n",
       "</table>\n",
       "<p>1284138 rows × 2 columns</p>\n",
       "</div>"
      ],
      "text/plain": [
       "                                                       log  hangover_start\n",
       "0                            b\"\\x00\\x07\\x01r\\x0e\\xec'\\x81\"               0\n",
       "1        b'$\\xe2\\xc7\\xefp\\x1a\\x1a\\x87O\\x7f\\xfa\\xe8\\x87\\...               0\n",
       "2        b'\\xfe\\x1a\\xe7\\x04r\\n\"GN\\x7f\\xe2\\xfa\\x07\\xe2p\\...               0\n",
       "3        b\"*\\x1a\\x07.}\\xf8\\xd0'Ls&\\xfe\\xa7\\xa1\\x7f\\xfe\\...               0\n",
       "4          b'\\x02\\xceG\\xe1p\\x0e\\xfe\\x07\\xa4}\\xd6\\xd8\\x07!'               0\n",
       "...                                                    ...             ...\n",
       "1284133                                 b'\\xeb\\xb7qV\\xf7t'               0\n",
       "1284134  b\"\\xd7h\\xe0\\x07}\\xa3wp\\xd3\\x87\\x83l\\xa8}\\xda\\x...               0\n",
       "1284135  b\"\\xc2'}j\\xb7w\\xedW\\x83\\xef\\xc7rE\\xd7\\x87\\xa5\\...               0\n",
       "1284136  b'\\xf3\\x97q\\x8e\\xa6r\\xf9\\x17z\\x83\\xc7z\\xfa\\xc7...               0\n",
       "1284137  b'\\xc5\\x97|\\xb5\\x97s\\'\\xf7\\x81\\xa5Wzz\\xf8z\\x94...               0\n",
       "\n",
       "[1284138 rows x 2 columns]"
      ]
     },
     "execution_count": 5,
     "metadata": {},
     "output_type": "execute_result"
    }
   ],
   "source": [
    "df_list = []\n",
    "for qmdl_path in path_rawlogs_list[0:2]:\n",
    "    print(qmdl_path)\n",
    "    with qmdl_path.open(\"rb\") as f:\n",
    "        logs = f.read()\n",
    "        logs = logs.replace(b'\\x7d\\x5d', b'\\x7d') # 7D5D -> 7D\n",
    "        logs = logs.replace(b'\\x7d\\x5e', b'\\x7e') # 7D5E -> 7E\n",
    "        logs_list = logs.split(b'\\x7e')\n",
    "    print(len(logs_list), logs_list[0])\n",
    "    df = pd.DataFrame({'log': logs_list, 'hangover_start': [0]*len(logs_list)})\n",
    "    df_list.append(df)\n",
    "df = pd.concat(df_list, ignore_index=True)\n",
    "df"
   ]
  },
  {
   "cell_type": "code",
   "execution_count": 66,
   "id": "5379eb5f-6f9f-43c7-ab87-e5433053acf3",
   "metadata": {
    "collapsed": true,
    "jupyter": {
     "outputs_hidden": true
    }
   },
   "outputs": [
    {
     "name": "stdout",
     "output_type": "stream",
     "text": [
      "452927 57 12\n",
      "503026 23 12\n",
      "503457 23 12\n",
      "504234 23 12\n",
      "571058 8 12\n",
      "572029 8 12\n",
      "573186 8 12\n",
      "640216 68 12\n",
      "641973 5 12\n",
      "1064429 195 12\n",
      "1261652 33 12\n"
     ]
    }
   ],
   "source": [
    "# hangover start logs\n",
    "for i, log in enumerate(df['log']):\n",
    "    if log[0:1] == b'\\x60' and (a := b'\\x74') in log:\n",
    "        id1 = log.index(a)\n",
    "        if (id2 := id1 + 1) < len(log) and (nxt := log[id2] & b'\\x0f'[0]) == b'\\x0c'[0]:\n",
    "            df.at[i, 'hangover_start'] = 1\n",
    "            print(i, id1, nxt)"
   ]
  },
  {
   "cell_type": "code",
   "execution_count": 51,
   "id": "8d82dda6-8804-4d5b-b3f8-a5a736c059ff",
   "metadata": {
    "collapsed": true,
    "jupyter": {
     "outputs_hidden": true
    },
    "scrolled": true
   },
   "outputs": [
    {
     "data": {
      "text/html": [
       "<div>\n",
       "<style scoped>\n",
       "    .dataframe tbody tr th:only-of-type {\n",
       "        vertical-align: middle;\n",
       "    }\n",
       "\n",
       "    .dataframe tbody tr th {\n",
       "        vertical-align: top;\n",
       "    }\n",
       "\n",
       "    .dataframe thead th {\n",
       "        text-align: right;\n",
       "    }\n",
       "</style>\n",
       "<table border=\"1\" class=\"dataframe\">\n",
       "  <thead>\n",
       "    <tr style=\"text-align: right;\">\n",
       "      <th></th>\n",
       "      <th>log</th>\n",
       "      <th>hangover_start</th>\n",
       "    </tr>\n",
       "  </thead>\n",
       "  <tbody>\n",
       "    <tr>\n",
       "      <th>452927</th>\n",
       "      <td>b'`=\\x00f\"(\\x02\\xfc\\\\\\xa2\\xf5\\x05\\x01\\x00Z\\xe2...</td>\n",
       "      <td>1</td>\n",
       "    </tr>\n",
       "    <tr>\n",
       "      <th>503026</th>\n",
       "      <td>b'`\\xf8\\x8e\\xaf\\x17k\\x1fW},\\x87|\\xd0W\\x8f\\x1fX...</td>\n",
       "      <td>1</td>\n",
       "    </tr>\n",
       "    <tr>\n",
       "      <th>503457</th>\n",
       "      <td>b'`\\xf8\\x8e\\xaf\\x17k\\x1fW},\\x87|\\xd0W\\x8f\\x1fX...</td>\n",
       "      <td>1</td>\n",
       "    </tr>\n",
       "    <tr>\n",
       "      <th>504234</th>\n",
       "      <td>b'`\\xf8\\x8e\\xaf\\x17k\\x1fW},\\x87|\\xd0W\\x8f\\x1fX...</td>\n",
       "      <td>1</td>\n",
       "    </tr>\n",
       "    <tr>\n",
       "      <th>571058</th>\n",
       "      <td>b'`w|\\x8a\\xa7\\x85\\x1d\\x17t,H'</td>\n",
       "      <td>1</td>\n",
       "    </tr>\n",
       "    <tr>\n",
       "      <th>572029</th>\n",
       "      <td>b'`w|\\x8a\\xa7\\x85\\x1d\\x17t,H'</td>\n",
       "      <td>1</td>\n",
       "    </tr>\n",
       "    <tr>\n",
       "      <th>573186</th>\n",
       "      <td>b'`w|\\x8a\\xa7\\x85\\x1d\\x17t,H'</td>\n",
       "      <td>1</td>\n",
       "    </tr>\n",
       "    <tr>\n",
       "      <th>640216</th>\n",
       "      <td>b'`I\\x00f\"C\\x8d\\xc1o\\xa2\\xf5\\x05\\x01\\x00Z\\xe2\\...</td>\n",
       "      <td>1</td>\n",
       "    </tr>\n",
       "    <tr>\n",
       "      <th>641973</th>\n",
       "      <td>b'`\\xe9{\\xee\\xdatLH\\xbf\\x0bi\\xb3x\\xb2\\x85\\x87\\...</td>\n",
       "      <td>1</td>\n",
       "    </tr>\n",
       "    <tr>\n",
       "      <th>1064429</th>\n",
       "      <td>b'`\\xe7\\x03H\\xb5\\x87U\\xb2\\xc5\\x8a\\x9a\\x15F\\x90...</td>\n",
       "      <td>1</td>\n",
       "    </tr>\n",
       "    <tr>\n",
       "      <th>1261652</th>\n",
       "      <td>b'`fV\\x83 c#R\\x80x\\xc1V\\x90\\x7f\\xd8aP^*SpU\\xa8...</td>\n",
       "      <td>1</td>\n",
       "    </tr>\n",
       "  </tbody>\n",
       "</table>\n",
       "</div>"
      ],
      "text/plain": [
       "                                                       log  hangover_start\n",
       "452927   b'`=\\x00f\"(\\x02\\xfc\\\\\\xa2\\xf5\\x05\\x01\\x00Z\\xe2...               1\n",
       "503026   b'`\\xf8\\x8e\\xaf\\x17k\\x1fW},\\x87|\\xd0W\\x8f\\x1fX...               1\n",
       "503457   b'`\\xf8\\x8e\\xaf\\x17k\\x1fW},\\x87|\\xd0W\\x8f\\x1fX...               1\n",
       "504234   b'`\\xf8\\x8e\\xaf\\x17k\\x1fW},\\x87|\\xd0W\\x8f\\x1fX...               1\n",
       "571058                       b'`w|\\x8a\\xa7\\x85\\x1d\\x17t,H'               1\n",
       "572029                       b'`w|\\x8a\\xa7\\x85\\x1d\\x17t,H'               1\n",
       "573186                       b'`w|\\x8a\\xa7\\x85\\x1d\\x17t,H'               1\n",
       "640216   b'`I\\x00f\"C\\x8d\\xc1o\\xa2\\xf5\\x05\\x01\\x00Z\\xe2\\...               1\n",
       "641973   b'`\\xe9{\\xee\\xdatLH\\xbf\\x0bi\\xb3x\\xb2\\x85\\x87\\...               1\n",
       "1064429  b'`\\xe7\\x03H\\xb5\\x87U\\xb2\\xc5\\x8a\\x9a\\x15F\\x90...               1\n",
       "1261652  b'`fV\\x83 c#R\\x80x\\xc1V\\x90\\x7f\\xd8aP^*SpU\\xa8...               1"
      ]
     },
     "execution_count": 51,
     "metadata": {},
     "output_type": "execute_result"
    }
   ],
   "source": [
    "df[df.hangover_start == 1]"
   ]
  },
  {
   "cell_type": "code",
   "execution_count": 53,
   "id": "13849f10-fbf2-4e6f-aca4-3f08f3424c34",
   "metadata": {},
   "outputs": [
    {
     "data": {
      "text/plain": [
       "(1284138, b\"\\x00\\x07\\x01r\\x0e\\xec'\\x81\")"
      ]
     },
     "execution_count": 53,
     "metadata": {},
     "output_type": "execute_result"
    }
   ],
   "source": [
    "len(logs_helper.logs_list), logs_helper.logs_list[0]"
   ]
  },
  {
   "cell_type": "code",
   "execution_count": 54,
   "id": "0c3859c6-2e5d-478c-bd6b-b4e1565292af",
   "metadata": {},
   "outputs": [
    {
     "name": "stdout",
     "output_type": "stream",
     "text": [
      "b\"\\x00\\x07\\x01r\\x0e\\xec'\\x81\"\n",
      "[  0   7   1 114  14 236  39 129]\n",
      "[0.         0.02745098 0.00392157 0.44705882 0.05490196 0.9254902\n",
      " 0.15294118 0.50588235]\n"
     ]
    }
   ],
   "source": [
    "log = logs_helper.logs_list[0]; print(log)\n",
    "log_uint = np.frombuffer(log, dtype=np.uint8); print(log_uint)\n",
    "log_float = log_uint / 255; print(log_float)"
   ]
  },
  {
   "cell_type": "code",
   "execution_count": 39,
   "id": "5a4bf01b-6508-4e22-9f13-8da78c88a6ed",
   "metadata": {},
   "outputs": [],
   "source": [
    "logs_uint8_list = [np.frombuffer(log, dtype=np.uint8) for log in logs_helper.logs_list]"
   ]
  },
  {
   "cell_type": "code",
   "execution_count": 40,
   "id": "11cd7633-bcf1-40f8-b3bd-ce0949de8029",
   "metadata": {},
   "outputs": [
    {
     "data": {
      "text/plain": [
       "(23498166, array([  0,   7,   1, 114,  14, 236,  39, 129], dtype=uint8))"
      ]
     },
     "execution_count": 40,
     "metadata": {},
     "output_type": "execute_result"
    }
   ],
   "source": [
    "len(logs_uint8_list), logs_uint8_list[0]"
   ]
  },
  {
   "cell_type": "code",
   "execution_count": null,
   "id": "06ef9075-c82e-47fa-be9d-8ede92a8299c",
   "metadata": {},
   "outputs": [],
   "source": [
    "logs_float_list = [log/255 for log in logs_uint8_list]"
   ]
  },
  {
   "cell_type": "code",
   "execution_count": 27,
   "id": "483184e4-c10f-4c57-a183-707efd88a454",
   "metadata": {},
   "outputs": [
    {
     "data": {
      "text/plain": [
       "(23498166,\n",
       " array([ 0.        ,  0.02745098,  0.00392157,  0.44705882,  0.05490196,\n",
       "        -0.07843137,  0.15294118, -0.49803922]))"
      ]
     },
     "execution_count": 27,
     "metadata": {},
     "output_type": "execute_result"
    }
   ],
   "source": [
    "len(logs_float_list), logs_float_list[0]"
   ]
  },
  {
   "cell_type": "code",
   "execution_count": 19,
   "id": "351bf0c3-aefd-496e-b467-e301997f4b68",
   "metadata": {},
   "outputs": [
    {
     "name": "stdout",
     "output_type": "stream",
     "text": [
      "(2560,) [0.         0.02745098 0.00392157 ... 0.         0.         0.        ]\n",
      "(2560,) [ 0.14117648 -0.11764706 -0.22352941 ...  0.          0.\n",
      "  0.        ]\n",
      "(2560,) [-0.00784314  0.10196079 -0.09803922 ...  0.          0.\n",
      "  0.        ]\n",
      "(2560,) [0.16470589 0.10196079 0.02745098 ... 0.         0.         0.        ]\n",
      "(2560,) [ 0.00784314 -0.19607843  0.2784314  ...  0.          0.\n",
      "  0.        ]\n"
     ]
    }
   ],
   "source": [
    "LOG_LENGTH = 2560\n",
    "for i, log in enumerate(logs_uint8_list[:5]):\n",
    "    logs_float = np.zeros([LOG_LENGTH,], dtype=np.float32)\n",
    "    if len(log) > LOG_LENGTH:\n",
    "        logs_float[:LOG_LENGTH] = log[:LOG_LENGTH]\n",
    "    else:\n",
    "        logs_float[:len(log)] = log\n",
    "    logs_float /= 255.0\n",
    "    print(logs_float.shape, logs_float)"
   ]
  },
  {
   "cell_type": "code",
   "execution_count": 17,
   "id": "7e9d6a21-cbb4-463b-b0ea-1fd04c5323ff",
   "metadata": {},
   "outputs": [
    {
     "name": "stdout",
     "output_type": "stream",
     "text": [
      "[[282404 282504      1]\n",
      " [505972 506072      1]\n",
      " [522872 522972      1]\n",
      " [736911 737011      1]\n",
      " [882025 882125      1]\n",
      " [ 39900  40000      0]\n",
      " [ 79900  80000      0]\n",
      " [119900 120000      0]\n",
      " [159900 160000      0]\n",
      " [199900 200000      0]] (10, 3)\n"
     ]
    }
   ],
   "source": [
    "data = logs_helper.get_dataset_ho()\n",
    "print(data, data.shape)"
   ]
  },
  {
   "cell_type": "code",
   "execution_count": 15,
   "id": "b1891427-559a-4d3e-be91-4e3387114f29",
   "metadata": {},
   "outputs": [
    {
     "data": {
      "text/plain": [
       "5402"
      ]
     },
     "execution_count": 15,
     "metadata": {},
     "output_type": "execute_result"
    }
   ],
   "source": [
    "len(max(logs_helper.logs_list, key=len)) # 5402\n",
    "max([len(l) for l in logs_helper.logs_list]) # 5402"
   ]
  },
  {
   "cell_type": "code",
   "execution_count": 16,
   "id": "651d0493-7ee5-4bfa-9f7b-4d2e504495de",
   "metadata": {},
   "outputs": [
    {
     "data": {
      "text/plain": [
       "array([[1],\n",
       "       [2],\n",
       "       [3],\n",
       "       [4]])"
      ]
     },
     "execution_count": 16,
     "metadata": {},
     "output_type": "execute_result"
    }
   ],
   "source": [
    "np.vstack([[[1], [2]], [[3],[4]]])"
   ]
  },
  {
   "cell_type": "code",
   "execution_count": 20,
   "id": "d82708d9-2a44-4100-be54-363a49681203",
   "metadata": {},
   "outputs": [],
   "source": [
    "# len(logs_helper.logs_list) # qmdl_1.qmdl: 129299 = 72 (modem events) + 129227 (non-modem events)\n",
    "# sum([1 if log[0:1] == b'\\x60' else 0 for log in logs_helper.logs_list]) # 72 (modem events)\n",
    "# print(b'\\x60') # b'`'"
   ]
  },
  {
   "cell_type": "code",
   "execution_count": 56,
   "id": "fdbfcbb7-d895-42e4-b1ac-7b0b2852be43",
   "metadata": {},
   "outputs": [
    {
     "name": "stdout",
     "output_type": "stream",
     "text": [
      "       565 events modem\n",
      " 1,283,573 events non_modem\n",
      " 1,284,138 events all\n"
     ]
    }
   ],
   "source": [
    "modem_event_logs = [(i, log) for i, log in enumerate(logs_helper.logs_list) if log[0:1] == b'\\x60']\n",
    "non_modem_event_logs = [(i, log) for i, log in enumerate(logs_helper.logs_list) if log[0:1] != b'\\x60']\n",
    "a = len(modem_event_logs); b = len(non_modem_event_logs); c = len(logs_helper.logs_list)\n",
    "print(f'{a:10,d} events modem\\n{b:10,d} events non_modem\\n{c:10,d} events all'); assert a + b == c\n",
    "# modem_event_logs[0][:10] # b\"`\\x02\\xe7Np6\\xdc'\\xaf}\"\n",
    "# non_modem_event_logs[0][:10] # b\"\\x00\\x07\\x01r\\x0e\\xec'\\x81\""
   ]
  },
  {
   "cell_type": "code",
   "execution_count": 57,
   "id": "e9fcbdec-a725-4089-96a2-a7c2acf9f8db",
   "metadata": {},
   "outputs": [
    {
     "name": "stdout",
     "output_type": "stream",
     "text": [
      "max_length (modem_event_logs): 1514\n",
      "[19, 53, 38, 35, 4, 15, 24, 284, 34, 19, 28, 93, 17, 1514, 4, 9, 44, 43, 19, 113]\n"
     ]
    }
   ],
   "source": [
    "modem_event_logs_length_list = [len(log) for i, log in modem_event_logs]\n",
    "print(f'max_length (modem_event_logs): {max(modem_event_logs_length_list)}')\n",
    "print(modem_event_logs_length_list[:20])"
   ]
  },
  {
   "cell_type": "code",
   "execution_count": 58,
   "id": "15a0357d-af31-402b-bd12-ed619099569b",
   "metadata": {},
   "outputs": [
    {
     "name": "stdout",
     "output_type": "stream",
     "text": [
      "max_length (non_modem_event_logs): 8250\n"
     ]
    }
   ],
   "source": [
    "non_modem_event_logs_length_list = [len(l) for i, l in non_modem_event_logs]\n",
    "print(f'max_length (non_modem_event_logs): {max(non_modem_event_logs_length_list)}') # 4937, 8250, 8258"
   ]
  },
  {
   "cell_type": "code",
   "execution_count": 59,
   "id": "3a3c5538-95f6-4b33-8b89-0cf9e63b15f8",
   "metadata": {},
   "outputs": [],
   "source": [
    "a = b'\\x74'\n",
    "b = b'\\xFF'\n",
    "assert a[0] == a[0] & b[0] # 116\n",
    "assert a == bytes([a[0] & b[0]]) # b't'\n",
    "assert b'\\x0f'[0] == 15"
   ]
  },
  {
   "cell_type": "code",
   "execution_count": 60,
   "id": "ea967d41-68d9-4a5a-b03b-65089af92dd3",
   "metadata": {
    "scrolled": true
   },
   "outputs": [
    {
     "name": "stdout",
     "output_type": "stream",
     "text": [
      "452927 57 12\n",
      "503026 23 12\n",
      "503457 23 12\n",
      "504234 23 12\n",
      "571058 8 12\n",
      "572029 8 12\n",
      "573186 8 12\n",
      "640216 68 12\n",
      "641973 5 12\n",
      "1064429 195 12\n",
      "1261652 33 12\n"
     ]
    }
   ],
   "source": [
    "# hangover start logs\n",
    "ho_start_logs = []\n",
    "for i, log in modem_event_logs:\n",
    "    if (a := b'\\x74') in log:\n",
    "        id1 = log.index(a)\n",
    "        if (id2 := id1 + 1) < len(log) and (nxt := log[id2] & b'\\x0f'[0]) == b'\\x0c'[0]:\n",
    "            print(i, id1, nxt)\n",
    "            ho_start_logs.append((i, log))"
   ]
  },
  {
   "cell_type": "code",
   "execution_count": 61,
   "id": "d0196430-79c4-4ddd-81dc-7957886496a3",
   "metadata": {},
   "outputs": [
    {
     "name": "stdout",
     "output_type": "stream",
     "text": [
      "11 (452927, b'`=\\x00f\"(\\x02\\xfc\\\\\\xa2\\xf5\\x05\\x01\\x00Z\\xe2\\x0f\\xfc\\x04\\x00\\x00\\x00\\x00\\x9b\\xa1\\x10\\xfc\\x00\\x07\\x85\\x12\\xfc]\\xe2b\\xfc\\n \\x01\\x01\\xff\\xff\\xe8\\x03\\x052\\x00Y\\xe2q\\xfc\\x03\\xe1\\n\\x01\\x06\\xa5t\\xfc\\x02\\x08\\x85\\xb8\\xfc\\x81\\xe2')\n"
     ]
    }
   ],
   "source": [
    "print(len(ho_start_logs), ho_start_logs[0])"
   ]
  },
  {
   "cell_type": "code",
   "execution_count": 62,
   "id": "c72c5686-fbf5-4ab2-afa5-568fc0507b26",
   "metadata": {},
   "outputs": [
    {
     "name": "stdout",
     "output_type": "stream",
     "text": [
      "452927 57 12\n",
      "503026 23 12\n",
      "503457 23 12\n",
      "504234 23 12\n",
      "571058 8 12\n",
      "572029 8 12\n",
      "573186 8 12\n",
      "640216 68 12\n",
      "641973 5 12\n",
      "1064429 195 12\n",
      "1261652 33 12\n"
     ]
    }
   ],
   "source": [
    "for i, log in enumerate(logs_helper.logs_list):\n",
    "    if log[0:1] == b'\\x60' and (a := b'\\x74') in log:\n",
    "        idx = log.index(a)\n",
    "        if idx + 1 < len(log):\n",
    "            nxt = log[idx + 1] & b'\\x0f'[0]\n",
    "            if nxt == b'\\x0c'[0]:\n",
    "                print(i, idx, nxt)"
   ]
  },
  {
   "cell_type": "code",
   "execution_count": 16,
   "id": "b10cbb43-d5e8-4a11-a950-64a07b65fd61",
   "metadata": {},
   "outputs": [
    {
     "data": {
      "text/plain": [
       "[88, 142, 163, 33, 153]"
      ]
     },
     "execution_count": 16,
     "metadata": {},
     "output_type": "execute_result"
    }
   ],
   "source": [
    "ho_start_ids = [64, 118, 127, 196, 238]\n",
    "ho_start_logs = [modem_event_logs[i] for i in ho_start_ids]\n",
    "[len(l) for l in ho_start_logs]"
   ]
  },
  {
   "cell_type": "code",
   "execution_count": 98,
   "id": "4a7670c0-cb31-4d8b-aace-3636a5bf33d7",
   "metadata": {},
   "outputs": [
    {
     "name": "stdout",
     "output_type": "stream",
     "text": [
      "108 269 12\n"
     ]
    }
   ],
   "source": [
    "# hangover success\n",
    "for i, log in enumerate(modem_event_logs):\n",
    "    if (a := b'\\x76') in log:\n",
    "        idx = log.index(a)\n",
    "        if idx + 1 < len(log):\n",
    "            nxt = log[idx + 1] & b'\\x0f'[0]\n",
    "            if nxt == b'\\x0c'[0]:\n",
    "                print(i, idx, nxt)"
   ]
  },
  {
   "cell_type": "code",
   "execution_count": 18,
   "id": "a9bb1bbc-e5ae-4cde-bbd0-779034d3f1d1",
   "metadata": {
    "collapsed": true,
    "jupyter": {
     "outputs_hidden": true
    }
   },
   "outputs": [
    {
     "name": "stdout",
     "output_type": "stream",
     "text": [
      "269\n",
      "32\n"
     ]
    },
    {
     "data": {
      "text/plain": [
       "[(41642, 41644, 2),\n",
       " (41644, 41646, 2),\n",
       " (181842, 181844, 2),\n",
       " (498814, 498822, 8),\n",
       " (530414, 530449, 35),\n",
       " (536651, 536659, 8),\n",
       " (548218, 548220, 2),\n",
       " (615687, 615689, 2),\n",
       " (647405, 647407, 2),\n",
       " (647407, 647409, 2),\n",
       " (647409, 647411, 2),\n",
       " (647411, 647414, 3),\n",
       " (647414, 647417, 3),\n",
       " (647417, 647419, 2),\n",
       " (721319, 721321, 2),\n",
       " (738886, 738900, 14),\n",
       " (738900, 738901, 1),\n",
       " (738901, 738941, 40),\n",
       " (738941, 738942, 1),\n",
       " (739852, 739854, 2),\n",
       " (739854, 739872, 18),\n",
       " (739872, 739874, 2),\n",
       " (739874, 739925, 51),\n",
       " (739925, 739927, 2),\n",
       " (763495, 763498, 3),\n",
       " (763498, 763517, 19),\n",
       " (764343, 764396, 53),\n",
       " (766306, 766307, 1),\n",
       " (868662, 868670, 8),\n",
       " (882125, 882145, 20),\n",
       " (933570, 933634, 64),\n",
       " (935500, 935576, 76)]"
      ]
     },
     "execution_count": 18,
     "metadata": {},
     "output_type": "execute_result"
    }
   ],
   "source": [
    "modem_event_logs = {i:log for i, log in enumerate(logs_helper.logs_list) if log[0:1] == b'\\x60'}\n",
    "keys = list(modem_event_logs.keys()); print(len(keys))\n",
    "k0 = keys[0]\n",
    "diff = [(k1, k2, k2 - k1) for k1, k2 in zip(keys, keys[1:])]\n",
    "diff_less100 = [(k1, k2, d) for k1, k2, d in diff if d < 100]; print(len(diff_less100))\n",
    "diff_less100"
   ]
  },
  {
   "cell_type": "code",
   "execution_count": 32,
   "id": "d33cc1f6-48d6-435c-beec-e40150a36b7b",
   "metadata": {},
   "outputs": [
    {
     "name": "stdout",
     "output_type": "stream",
     "text": [
      "282504 54 12\n",
      "506072 98 12\n",
      "522972 4 12\n",
      "737011 23 12\n",
      "882125 29 12\n",
      "dict_keys([282504, 506072, 522972, 737011, 882125])\n"
     ]
    }
   ],
   "source": [
    "# hangover start logs\n",
    "ho_start_logs = {}\n",
    "for k in modem_event_logs.keys():\n",
    "    if (a := b'\\x74') in (log := logs_helper.logs_list[k]):\n",
    "        id1 = log.index(a)\n",
    "        if (id2 := id1 + 1) < len(log):\n",
    "            nxt = log[id2] & b'\\x0f'[0]\n",
    "            if nxt == b'\\x0c'[0]:\n",
    "                print(k, id1, nxt)\n",
    "                ho_start_logs[k] = log\n",
    "print(ho_start_logs.keys())"
   ]
  },
  {
   "cell_type": "code",
   "execution_count": 56,
   "id": "c250f2da-2ee6-4e61-a333-92c126b1f601",
   "metadata": {},
   "outputs": [
    {
     "name": "stdout",
     "output_type": "stream",
     "text": [
      "282404, 282405, 282406, ..., 282502, 282503\n",
      "505972, 505973, 505974, ..., 506070, 506071\n",
      "522872, 522873, 522874, ..., 522970, 522971\n",
      "736911, 736912, 736913, ..., 737009, 737010\n",
      "882025, 882026, 882027, ..., 882123, 882124\n"
     ]
    }
   ],
   "source": [
    "positive_ids = []\n",
    "for k in ho_start_logs.keys():\n",
    "    positive_ids.append([i for i in range(k-100, k)])\n",
    "for ids in positive_ids:\n",
    "    print(f'{ids[0]}, {ids[1]}, {ids[2]}, ..., {ids[-2]}, {ids[-1]}')"
   ]
  },
  {
   "cell_type": "code",
   "execution_count": 69,
   "id": "09c5aac2-07e0-4c01-b82a-260bd6b2c44f",
   "metadata": {},
   "outputs": [
    {
     "name": "stdout",
     "output_type": "stream",
     "text": [
      "1162\n",
      "2073\n",
      "1156\n",
      "1322\n",
      "1750\n"
     ]
    }
   ],
   "source": [
    "for ids in positive_ids:\n",
    "    print(max([len(logs_helper.logs_list[i]) for i in ids]))"
   ]
  },
  {
   "cell_type": "code",
   "execution_count": 63,
   "id": "6ef0e67a-cb11-4222-a5ca-84b9df1f4152",
   "metadata": {},
   "outputs": [
    {
     "name": "stdout",
     "output_type": "stream",
     "text": [
      "39900, 39901, 39902, ..., 39998, 39999\n",
      "79900, 79901, 79902, ..., 79998, 79999\n",
      "119900, 119901, 119902, ..., 119998, 119999\n",
      "159900, 159901, 159902, ..., 159998, 159999\n",
      "199900, 199901, 199902, ..., 199998, 199999\n"
     ]
    }
   ],
   "source": [
    "neg_start, neg_delta = 40000, 40000\n",
    "negative_logs_keys = [k for k in range(neg_start, neg_start + 5 * neg_delta, neg_delta)]\n",
    "negative_ids = []\n",
    "for k in negative_logs_keys:\n",
    "    negative_ids.append([i for i in range(k-100, k)])\n",
    "for ids in negative_ids:\n",
    "    print(f'{ids[0]}, {ids[1]}, {ids[2]}, ..., {ids[-2]}, {ids[-1]}')"
   ]
  },
  {
   "cell_type": "code",
   "execution_count": 68,
   "id": "d01eecb6-f6c6-4384-a535-6a26ff892c52",
   "metadata": {},
   "outputs": [
    {
     "name": "stdout",
     "output_type": "stream",
     "text": [
      "1114\n",
      "1738\n",
      "1626\n",
      "234\n",
      "2743\n"
     ]
    }
   ],
   "source": [
    "for ids in negative_ids:\n",
    "    print(max([len(logs_helper.logs_list[i]) for i in ids]))"
   ]
  },
  {
   "cell_type": "code",
   "execution_count": null,
   "id": "3fe8781d-3f27-4c56-93f5-d24229152296",
   "metadata": {},
   "outputs": [],
   "source": []
  }
 ],
 "metadata": {
  "kernelspec": {
   "display_name": "Python 3 (ipykernel)",
   "language": "python",
   "name": "python3"
  },
  "language_info": {
   "codemirror_mode": {
    "name": "ipython",
    "version": 3
   },
   "file_extension": ".py",
   "mimetype": "text/x-python",
   "name": "python",
   "nbconvert_exporter": "python",
   "pygments_lexer": "ipython3",
   "version": "3.12.5"
  }
 },
 "nbformat": 4,
 "nbformat_minor": 5
}
