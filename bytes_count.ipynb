{
 "cells": [
  {
   "cell_type": "code",
   "execution_count": 1,
   "id": "8f84ae04-a71a-440f-96d9-3605fe89a8c0",
   "metadata": {},
   "outputs": [
    {
     "name": "stdout",
     "output_type": "stream",
     "text": [
      "byte_order: little\n"
     ]
    }
   ],
   "source": [
    "from pathlib import Path\n",
    "from sklearn.model_selection import train_test_split\n",
    "from utils import QmdlLogsHelper\n",
    "import numpy as np\n",
    "import sys; print(f\"byte_order: {sys.byteorder}\")"
   ]
  },
  {
   "cell_type": "code",
   "execution_count": 2,
   "id": "c69a99bf-fa18-4e9a-bd19-5a62b13e3435",
   "metadata": {},
   "outputs": [],
   "source": [
    "path_project = \"/disk/sean/5glogs\"\n",
    "path_logs = \"sa_log/nr-airondiag_Thu_Apr_18_17-44-36_2024/diag_Thu_Apr_18_17-44-36_2024\"\n",
    "path_file = \"qmdl_1.qmdl\"\n",
    "qmdl_logs_path = Path(path_project) / Path(path_logs) / Path(path_file)\n",
    "with qmdl_logs_path.open('rb') as f:\n",
    "    logs_array = f.read()"
   ]
  },
  {
   "cell_type": "code",
   "execution_count": 3,
   "id": "937ab4a9-3788-465c-b6d6-be51067c39e8",
   "metadata": {},
   "outputs": [
    {
     "name": "stdout",
     "output_type": "stream",
     "text": [
      "256 [(0, 9043069), (3, 564508), (1, 540602), (255, 481149), (2, 369979), (16, 364505), (4, 337030), (8, 298400), (254, 215997), (126, 210730)]\n"
     ]
    }
   ],
   "source": [
    "from collections import Counter\n",
    "ctr_1b = Counter(logs_array); print(len(ctr_1b), ctr_1b.most_common(10))"
   ]
  },
  {
   "cell_type": "code",
   "execution_count": 4,
   "id": "e8391a6b-7390-410f-accb-c376f6270817",
   "metadata": {},
   "outputs": [
    {
     "data": {
      "text/plain": [
       "266"
      ]
     },
     "execution_count": 4,
     "metadata": {},
     "output_type": "execute_result"
    }
   ],
   "source": [
    "logs_array.count(b'\\x07\\x45')"
   ]
  },
  {
   "cell_type": "code",
   "execution_count": 6,
   "id": "67a9e232-d75e-4b6d-875a-0871e137ca45",
   "metadata": {},
   "outputs": [
    {
     "name": "stdout",
     "output_type": "stream",
     "text": [
      "b'\\xfe\\xff'\n"
     ]
    },
    {
     "data": {
      "text/plain": [
       "25457"
      ]
     },
     "execution_count": 6,
     "metadata": {},
     "output_type": "execute_result"
    }
   ],
   "source": [
    "a, b = 254, 255\n",
    "ab = a.to_bytes() + b.to_bytes(); print(ab)\n",
    "logs_array.count(ab)"
   ]
  },
  {
   "cell_type": "code",
   "execution_count": 15,
   "id": "0dab2ab0-f5b8-4c15-8129-20b2396352b1",
   "metadata": {},
   "outputs": [],
   "source": [
    "ctr_2b = Counter()\n",
    "## too slow version\n",
    "# for i in range(256):\n",
    "#     for j in range(256):\n",
    "#         ij = i.to_bytes() + j.to_bytes()\n",
    "#         ctr_2b[ij] = logs_array.count(ij)\n",
    "## fast version seanliu 20240521\n",
    "for i in range(len(logs_array)-1):\n",
    "    ctr_2b[logs_array[i:i+2]] += 1"
   ]
  },
  {
   "cell_type": "code",
   "execution_count": 48,
   "id": "9e934413-4606-4697-82af-f4b5444e2f9d",
   "metadata": {},
   "outputs": [
    {
     "name": "stdout",
     "output_type": "stream",
     "text": [
      "00 00 : 6387274\n",
      "03 00 : 335877\n",
      "01 00 : 326228\n",
      "00 01 : 273959\n",
      "ff ff : 264808\n",
      "10 00 : 229299\n",
      "00 03 : 189491\n",
      "00 02 : 154027\n",
      "02 00 : 133861\n",
      "08 00 : 133344\n",
      "fe 04 : 129666\n",
      "9d 45 : 100330\n",
      "7e 9d : 100276\n",
      "00 fe : 91968\n",
      "00 ff : 83368\n",
      "00 10 : 81294\n",
      "10 03 : 79799\n",
      "7d 5e : 76939\n",
      "20 00 : 64629\n",
      "07 00 : 60836\n"
     ]
    }
   ],
   "source": [
    "# for b, c in ctr_2b.most_common(20):\n",
    "#     print(b.hex(), c)\n",
    "for b, c in ctr_2b.most_common(20):\n",
    "    bh = b.hex()\n",
    "    print(f\"{bh[:2]} {bh[2:]} : {c}\")"
   ]
  },
  {
   "cell_type": "code",
   "execution_count": 35,
   "id": "4ad8b362-b24c-4945-8f5b-4003ebd16a6b",
   "metadata": {},
   "outputs": [],
   "source": [
    "ctr_3b = Counter()\n",
    "for i in range(len(logs_array)-2):\n",
    "    ctr_3b[logs_array[i:i+3]] += 1"
   ]
  },
  {
   "cell_type": "code",
   "execution_count": 44,
   "id": "c56063f1-e1d5-4ca1-be86-13dd52e0e3a9",
   "metadata": {},
   "outputs": [
    {
     "name": "stdout",
     "output_type": "stream",
     "text": [
      "00 00 00 : 5033272\n",
      "01 00 00 : 235903\n",
      "00 01 00 : 194604\n",
      "ff ff ff : 193594\n",
      "03 00 00 : 170567\n",
      "00 03 00 : 149246\n",
      "00 00 01 : 148709\n",
      "08 00 00 : 119796\n",
      "02 00 00 : 115091\n",
      "7e 9d 45 : 100187\n",
      "00 00 02 : 89136\n",
      "00 fe 04 : 83233\n",
      "00 00 ff : 81550\n",
      "00 02 00 : 80070\n",
      "10 03 00 : 79455\n",
      "00 00 03 : 79285\n",
      "00 10 00 : 74089\n",
      "00 5d b6 : 55799\n",
      "7e 99 02 : 55670\n",
      "00 00 10 : 55274\n"
     ]
    }
   ],
   "source": [
    "# for b, c in ctr_3b.most_common(20):\n",
    "#     print(b.hex(), c)\n",
    "for b, c in ctr_3b.most_common(20):\n",
    "    bh = b.hex()\n",
    "    print(f\"{bh[:2]} {bh[2:4]} {bh[4:]} : {c}\")"
   ]
  },
  {
   "cell_type": "code",
   "execution_count": 33,
   "id": "4bf2ff24-cd70-46ea-8abf-c3f36fc2ade2",
   "metadata": {},
   "outputs": [],
   "source": [
    "ctr_4b = Counter()\n",
    "for i in range(len(logs_array)-3):\n",
    "    ctr_4b[logs_array[i:i+4]] += 1"
   ]
  },
  {
   "cell_type": "code",
   "execution_count": 42,
   "id": "b0754066-8774-43af-8804-7c9b32f2d9e3",
   "metadata": {},
   "outputs": [
    {
     "name": "stdout",
     "output_type": "stream",
     "text": [
      "00 00 00 00 : 4090144\n",
      "01 00 00 00 : 167647\n",
      "ff ff ff ff : 143941\n",
      "03 00 00 00 : 143306\n",
      "00 01 00 00 : 124679\n",
      "08 00 00 00 : 117702\n",
      "00 00 01 00 : 112930\n",
      "02 00 00 00 : 104045\n",
      "00 03 00 00 : 100027\n",
      "00 00 00 ff : 78388\n",
      "00 02 00 00 : 73337\n",
      "00 00 00 01 : 71632\n",
      "00 00 00 02 : 69695\n",
      "01 00 00 01 : 54959\n",
      "00 00 10 00 : 52927\n",
      "00 00 00 10 : 52136\n",
      "98 01 00 00 : 51136\n",
      "7e 98 01 00 : 51075\n",
      "00 00 00 fe : 50703\n",
      "00 00 fe 04 : 49801\n"
     ]
    }
   ],
   "source": [
    "for b, c in ctr_4b.most_common(20):\n",
    "    bh = b.hex()\n",
    "    print(f\"{bh[:2]} {bh[2:4]} {bh[4:6]} {bh[6:]} : {c}\")"
   ]
  }
 ],
 "metadata": {
  "kernelspec": {
   "display_name": "Python 3 (ipykernel)",
   "language": "python",
   "name": "python3"
  },
  "language_info": {
   "codemirror_mode": {
    "name": "ipython",
    "version": 3
   },
   "file_extension": ".py",
   "mimetype": "text/x-python",
   "name": "python",
   "nbconvert_exporter": "python",
   "pygments_lexer": "ipython3",
   "version": "3.12.3"
  }
 },
 "nbformat": 4,
 "nbformat_minor": 5
}
