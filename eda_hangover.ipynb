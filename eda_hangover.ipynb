{
 "cells": [
  {
   "cell_type": "code",
   "execution_count": 1,
   "id": "89a80d92-f7e8-4c72-b824-95da279e9d6e",
   "metadata": {},
   "outputs": [],
   "source": [
    "from pathlib import Path\n",
    "from utils import QmdlLogsHelper\n",
    "import numpy as np"
   ]
  },
  {
   "cell_type": "code",
   "execution_count": 2,
   "id": "26ab4040-9219-4dc8-bf6a-65d4a2738ea6",
   "metadata": {},
   "outputs": [],
   "source": [
    "path_project = '/disk/sean/5glogs'\n",
    "path_rawlogs = Path(path_project) / Path('sa_ho_event.qmdl')\n",
    "logs_helper = QmdlLogsHelper(path_rawlogs)"
   ]
  },
  {
   "cell_type": "code",
   "execution_count": 17,
   "id": "7e9d6a21-cbb4-463b-b0ea-1fd04c5323ff",
   "metadata": {},
   "outputs": [
    {
     "name": "stdout",
     "output_type": "stream",
     "text": [
      "[[282404 282504      1]\n",
      " [505972 506072      1]\n",
      " [522872 522972      1]\n",
      " [736911 737011      1]\n",
      " [882025 882125      1]\n",
      " [ 39900  40000      0]\n",
      " [ 79900  80000      0]\n",
      " [119900 120000      0]\n",
      " [159900 160000      0]\n",
      " [199900 200000      0]] (10, 3)\n"
     ]
    }
   ],
   "source": [
    "data = logs_helper.get_dataset_ho()\n",
    "print(data, data.shape)"
   ]
  },
  {
   "cell_type": "code",
   "execution_count": 15,
   "id": "b1891427-559a-4d3e-be91-4e3387114f29",
   "metadata": {},
   "outputs": [
    {
     "data": {
      "text/plain": [
       "5402"
      ]
     },
     "execution_count": 15,
     "metadata": {},
     "output_type": "execute_result"
    }
   ],
   "source": [
    "len(max(logs_helper.logs_list, key=len)) # 5402\n",
    "max([len(l) for l in logs_helper.logs_list]) # 5402"
   ]
  },
  {
   "cell_type": "code",
   "execution_count": 16,
   "id": "651d0493-7ee5-4bfa-9f7b-4d2e504495de",
   "metadata": {},
   "outputs": [
    {
     "data": {
      "text/plain": [
       "array([[1],\n",
       "       [2],\n",
       "       [3],\n",
       "       [4]])"
      ]
     },
     "execution_count": 16,
     "metadata": {},
     "output_type": "execute_result"
    }
   ],
   "source": [
    "np.vstack([[[1], [2]], [[3],[4]]])"
   ]
  },
  {
   "cell_type": "code",
   "execution_count": 4,
   "id": "d82708d9-2a44-4100-be54-363a49681203",
   "metadata": {},
   "outputs": [],
   "source": [
    "# len(logs_helper.logs_list) # 979805 = 269 + 979536\n",
    "# sum([1 if log[0:1] == b'\\x60' else 0 for log in logs_helper.logs_list[:]]) # 269\n",
    "# print(b'\\x60') # b'`'"
   ]
  },
  {
   "cell_type": "code",
   "execution_count": 36,
   "id": "fdbfcbb7-d895-42e4-b1ac-7b0b2852be43",
   "metadata": {},
   "outputs": [],
   "source": [
    "modem_event_logs = [log for log in logs_helper.logs_list if log[0:1] == b'\\x60']\n",
    "non_modem_event_logs = [log for log in logs_helper.logs_list if log[0:1] != b'\\x60']\n",
    "# len(modem_event_logs) # 269\n",
    "# len(non_modem_event_logs) # 979536\n",
    "# modem_event_logs[0][:10] # b'`\\x84\\x90}\\xefr\\xde\\x89\\xefs'\n",
    "# non_modem_event_logs[0][:10] # b'\\x00\\x00\\x00\\x00\\x00\\x0e\\x00\\x00\\x00\\x00'"
   ]
  },
  {
   "cell_type": "code",
   "execution_count": 42,
   "id": "e9fcbdec-a725-4089-96a2-a7c2acf9f8db",
   "metadata": {},
   "outputs": [
    {
     "name": "stdout",
     "output_type": "stream",
     "text": [
      "[108, 1, 49, 39, 40, 103, 260, 48, 19, 1113, 20, 36, 12, 29, 1, 51, 19, 73, 1, 19, 67, 19, 39, 60, 1, 100, 8, 15, 13, 34, 18, 54, 68, 43, 9, 123, 41, 4, 4, 63, 19, 36, 20, 19, 39, 74, 24, 33, 39, 27, 28, 110, 24, 19, 38, 19, 30, 128, 1, 53, 19, 252, 39, 5, 88, 9, 226, 1, 19, 29, 9, 39, 15, 39, 53, 67, 4, 4, 24, 74, 471, 19, 19, 44, 73, 53, 69, 4, 60, 106, 4, 53, 44, 14, 9, 59, 54, 4, 53, 14, 88, 42, 315, 63, 19, 29, 19, 251, 279, 63, 19, 14, 7, 345, 44, 44, 39, 17, 142, 24, 53, 118, 58, 1655, 1655, 1655, 1655, 163, 53, 19, 116, 3, 34, 24, 19, 56, 177, 146, 244, 24, 19, 64, 53, 86, 83, 19, 873, 19, 39, 310, 4, 1, 19, 192, 19, 72, 9, 74, 39, 19, 217, 64, 32, 12, 44, 12, 40, 4, 20, 19, 88, 34, 1, 9, 69, 49, 385, 123, 29, 39, 54, 14, 21, 63, 60, 53, 547, 14, 47, 19, 39, 53, 28, 60, 188, 9, 33, 32, 127, 32, 127, 32, 43, 32, 43, 32, 43, 32, 19, 150, 18, 1245, 1245, 882, 13, 13, 25, 13, 25, 20, 43, 373, 19, 61, 9, 9, 69, 14, 1, 824, 53, 24, 53, 126, 103, 3, 4, 1, 153, 19, 24, 43, 9, 19, 9, 14, 24, 69, 72, 32, 46, 46, 160, 160, 160, 160, 160, 46, 139, 160, 46, 1708, 318, 23, 118, 67, 1, 63, 4]\n"
     ]
    }
   ],
   "source": [
    "modem_event_logs_length_list = [len(l) for l in modem_event_logs]\n",
    "# max(modem_event_logs_length_list) # 1708\n",
    "print(modem_event_logs_length_list)"
   ]
  },
  {
   "cell_type": "code",
   "execution_count": 40,
   "id": "15a0357d-af31-402b-bd12-ed619099569b",
   "metadata": {},
   "outputs": [
    {
     "data": {
      "text/plain": [
       "5402"
      ]
     },
     "execution_count": 40,
     "metadata": {},
     "output_type": "execute_result"
    }
   ],
   "source": [
    "non_modem_event_logs_length_list = [len(l) for l in non_modem_event_logs]\n",
    "max(non_modem_event_logs_length_list)"
   ]
  },
  {
   "cell_type": "code",
   "execution_count": 97,
   "id": "3a3c5538-95f6-4b33-8b89-0cf9e63b15f8",
   "metadata": {},
   "outputs": [],
   "source": [
    "a = b'\\x74'\n",
    "b = b'\\xFF'\n",
    "assert a[0] == a[0] & b[0] # 116\n",
    "assert a == bytes([a[0] & b[0]]) # b't'\n",
    "assert b'\\x0f'[0] == 15"
   ]
  },
  {
   "cell_type": "code",
   "execution_count": 99,
   "id": "ea967d41-68d9-4a5a-b03b-65089af92dd3",
   "metadata": {
    "scrolled": true
   },
   "outputs": [
    {
     "name": "stdout",
     "output_type": "stream",
     "text": [
      "64 54 12\n",
      "118 98 12\n",
      "127 4 12\n",
      "196 23 12\n",
      "238 29 12\n"
     ]
    }
   ],
   "source": [
    "# hangover start logs\n",
    "for i, log in enumerate(modem_event_logs):\n",
    "    if (a := b'\\x74') in log:\n",
    "        idx = log.index(a)\n",
    "        if idx + 1 < len(log):\n",
    "            nxt = log[idx + 1] & b'\\x0f'[0]\n",
    "            if nxt == b'\\x0c'[0]:\n",
    "                print(i, idx, nxt)"
   ]
  },
  {
   "cell_type": "code",
   "execution_count": 16,
   "id": "b10cbb43-d5e8-4a11-a950-64a07b65fd61",
   "metadata": {},
   "outputs": [
    {
     "data": {
      "text/plain": [
       "[88, 142, 163, 33, 153]"
      ]
     },
     "execution_count": 16,
     "metadata": {},
     "output_type": "execute_result"
    }
   ],
   "source": [
    "ho_start_ids = [64, 118, 127, 196, 238]\n",
    "ho_start_logs = [modem_event_logs[i] for i in ho_start_ids]\n",
    "[len(l) for l in ho_start_logs]"
   ]
  },
  {
   "cell_type": "code",
   "execution_count": 98,
   "id": "4a7670c0-cb31-4d8b-aace-3636a5bf33d7",
   "metadata": {},
   "outputs": [
    {
     "name": "stdout",
     "output_type": "stream",
     "text": [
      "108 269 12\n"
     ]
    }
   ],
   "source": [
    "# hangover success\n",
    "for i, log in enumerate(modem_event_logs):\n",
    "    if (a := b'\\x76') in log:\n",
    "        idx = log.index(a)\n",
    "        if idx + 1 < len(log):\n",
    "            nxt = log[idx + 1] & b'\\x0f'[0]\n",
    "            if nxt == b'\\x0c'[0]:\n",
    "                print(i, idx, nxt)"
   ]
  },
  {
   "cell_type": "code",
   "execution_count": 18,
   "id": "a9bb1bbc-e5ae-4cde-bbd0-779034d3f1d1",
   "metadata": {
    "collapsed": true,
    "jupyter": {
     "outputs_hidden": true
    }
   },
   "outputs": [
    {
     "name": "stdout",
     "output_type": "stream",
     "text": [
      "269\n",
      "32\n"
     ]
    },
    {
     "data": {
      "text/plain": [
       "[(41642, 41644, 2),\n",
       " (41644, 41646, 2),\n",
       " (181842, 181844, 2),\n",
       " (498814, 498822, 8),\n",
       " (530414, 530449, 35),\n",
       " (536651, 536659, 8),\n",
       " (548218, 548220, 2),\n",
       " (615687, 615689, 2),\n",
       " (647405, 647407, 2),\n",
       " (647407, 647409, 2),\n",
       " (647409, 647411, 2),\n",
       " (647411, 647414, 3),\n",
       " (647414, 647417, 3),\n",
       " (647417, 647419, 2),\n",
       " (721319, 721321, 2),\n",
       " (738886, 738900, 14),\n",
       " (738900, 738901, 1),\n",
       " (738901, 738941, 40),\n",
       " (738941, 738942, 1),\n",
       " (739852, 739854, 2),\n",
       " (739854, 739872, 18),\n",
       " (739872, 739874, 2),\n",
       " (739874, 739925, 51),\n",
       " (739925, 739927, 2),\n",
       " (763495, 763498, 3),\n",
       " (763498, 763517, 19),\n",
       " (764343, 764396, 53),\n",
       " (766306, 766307, 1),\n",
       " (868662, 868670, 8),\n",
       " (882125, 882145, 20),\n",
       " (933570, 933634, 64),\n",
       " (935500, 935576, 76)]"
      ]
     },
     "execution_count": 18,
     "metadata": {},
     "output_type": "execute_result"
    }
   ],
   "source": [
    "modem_event_logs = {i:log for i, log in enumerate(logs_helper.logs_list) if log[0:1] == b'\\x60'}\n",
    "keys = list(modem_event_logs.keys()); print(len(keys))\n",
    "k0 = keys[0]\n",
    "diff = [(k1, k2, k2 - k1) for k1, k2 in zip(keys, keys[1:])]\n",
    "diff_less100 = [(k1, k2, d) for k1, k2, d in diff if d < 100]; print(len(diff_less100))\n",
    "diff_less100"
   ]
  },
  {
   "cell_type": "code",
   "execution_count": 32,
   "id": "d33cc1f6-48d6-435c-beec-e40150a36b7b",
   "metadata": {},
   "outputs": [
    {
     "name": "stdout",
     "output_type": "stream",
     "text": [
      "282504 54 12\n",
      "506072 98 12\n",
      "522972 4 12\n",
      "737011 23 12\n",
      "882125 29 12\n",
      "dict_keys([282504, 506072, 522972, 737011, 882125])\n"
     ]
    }
   ],
   "source": [
    "# hangover start logs\n",
    "ho_start_logs = {}\n",
    "for k in modem_event_logs.keys():\n",
    "    if (a := b'\\x74') in (log := logs_helper.logs_list[k]):\n",
    "        id1 = log.index(a)\n",
    "        if (id2 := id1 + 1) < len(log):\n",
    "            nxt = log[id2] & b'\\x0f'[0]\n",
    "            if nxt == b'\\x0c'[0]:\n",
    "                print(k, id1, nxt)\n",
    "                ho_start_logs[k] = log\n",
    "print(ho_start_logs.keys())"
   ]
  },
  {
   "cell_type": "code",
   "execution_count": 56,
   "id": "c250f2da-2ee6-4e61-a333-92c126b1f601",
   "metadata": {},
   "outputs": [
    {
     "name": "stdout",
     "output_type": "stream",
     "text": [
      "282404, 282405, 282406, ..., 282502, 282503\n",
      "505972, 505973, 505974, ..., 506070, 506071\n",
      "522872, 522873, 522874, ..., 522970, 522971\n",
      "736911, 736912, 736913, ..., 737009, 737010\n",
      "882025, 882026, 882027, ..., 882123, 882124\n"
     ]
    }
   ],
   "source": [
    "positive_ids = []\n",
    "for k in ho_start_logs.keys():\n",
    "    positive_ids.append([i for i in range(k-100, k)])\n",
    "for ids in positive_ids:\n",
    "    print(f'{ids[0]}, {ids[1]}, {ids[2]}, ..., {ids[-2]}, {ids[-1]}')"
   ]
  },
  {
   "cell_type": "code",
   "execution_count": 69,
   "id": "09c5aac2-07e0-4c01-b82a-260bd6b2c44f",
   "metadata": {},
   "outputs": [
    {
     "name": "stdout",
     "output_type": "stream",
     "text": [
      "1162\n",
      "2073\n",
      "1156\n",
      "1322\n",
      "1750\n"
     ]
    }
   ],
   "source": [
    "for ids in positive_ids:\n",
    "    print(max([len(logs_helper.logs_list[i]) for i in ids]))"
   ]
  },
  {
   "cell_type": "code",
   "execution_count": 63,
   "id": "6ef0e67a-cb11-4222-a5ca-84b9df1f4152",
   "metadata": {},
   "outputs": [
    {
     "name": "stdout",
     "output_type": "stream",
     "text": [
      "39900, 39901, 39902, ..., 39998, 39999\n",
      "79900, 79901, 79902, ..., 79998, 79999\n",
      "119900, 119901, 119902, ..., 119998, 119999\n",
      "159900, 159901, 159902, ..., 159998, 159999\n",
      "199900, 199901, 199902, ..., 199998, 199999\n"
     ]
    }
   ],
   "source": [
    "neg_start, neg_delta = 40000, 40000\n",
    "negative_logs_keys = [k for k in range(neg_start, neg_start + 5 * neg_delta, neg_delta)]\n",
    "negative_ids = []\n",
    "for k in negative_logs_keys:\n",
    "    negative_ids.append([i for i in range(k-100, k)])\n",
    "for ids in negative_ids:\n",
    "    print(f'{ids[0]}, {ids[1]}, {ids[2]}, ..., {ids[-2]}, {ids[-1]}')"
   ]
  },
  {
   "cell_type": "code",
   "execution_count": 68,
   "id": "d01eecb6-f6c6-4384-a535-6a26ff892c52",
   "metadata": {},
   "outputs": [
    {
     "name": "stdout",
     "output_type": "stream",
     "text": [
      "1114\n",
      "1738\n",
      "1626\n",
      "234\n",
      "2743\n"
     ]
    }
   ],
   "source": [
    "for ids in negative_ids:\n",
    "    print(max([len(logs_helper.logs_list[i]) for i in ids]))"
   ]
  },
  {
   "cell_type": "code",
   "execution_count": null,
   "id": "3fe8781d-3f27-4c56-93f5-d24229152296",
   "metadata": {},
   "outputs": [],
   "source": []
  }
 ],
 "metadata": {
  "kernelspec": {
   "display_name": "Python 3 (ipykernel)",
   "language": "python",
   "name": "python3"
  },
  "language_info": {
   "codemirror_mode": {
    "name": "ipython",
    "version": 3
   },
   "file_extension": ".py",
   "mimetype": "text/x-python",
   "name": "python",
   "nbconvert_exporter": "python",
   "pygments_lexer": "ipython3",
   "version": "3.12.4"
  }
 },
 "nbformat": 4,
 "nbformat_minor": 5
}
